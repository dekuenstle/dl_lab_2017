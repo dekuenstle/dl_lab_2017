{
 "cells": [
  {
   "cell_type": "code",
   "execution_count": 3,
   "metadata": {},
   "outputs": [
    {
     "name": "stderr",
     "output_type": "stream",
     "text": [
      "/usr/lib/python3.6/importlib/_bootstrap.py:219: RuntimeWarning: compiletime version 3.5 of module 'tensorflow.python.framework.fast_tensor_util' does not match runtime version 3.6\n",
      "  return f(*args, **kwds)\n"
     ]
    }
   ],
   "source": [
    "import os\n",
    "import gzip\n",
    "import time\n",
    "try:\n",
    "    import cPickle as pickle  # python2\n",
    "except ModuleNotFoundError:\n",
    "    import pickle # python3\n",
    "    \n",
    "import numpy as np\n",
    "import tensorflow as tf\n",
    "from tensorflow.python.client import device_lib\n",
    "\n",
    "import matplotlib.pyplot as plt\n",
    "%matplotlib inline\n",
    "from matplotlib import rc \n",
    "# use font and figure size for latex\n",
    "rc('font', **{'family': 'serif', 'serif': ['Computer Modern']})\n",
    "rc('text', usetex=True)\n",
    "textwidth_tex_a4 = 6.27\n",
    "fig_factor = 0.9\n",
    "golden_ratio = 1.6180339887\n",
    "rc('figure', figsize=(fig_factor*textwidth_tex_a4, fig_factor*textwidth_tex_a4/golden_ratio))\n"
   ]
  },
  {
   "cell_type": "markdown",
   "metadata": {},
   "source": [
    "## Implementing LeNet in Tensorflow"
   ]
  },
  {
   "cell_type": "code",
   "execution_count": 4,
   "metadata": {
    "collapsed": true
   },
   "outputs": [],
   "source": [
    "def mnist(datasets_dir='./data'):\n",
    "    if not os.path.exists(datasets_dir):\n",
    "        os.mkdir(datasets_dir)\n",
    "    data_file = os.path.join(datasets_dir, 'mnist.pkl.gz')\n",
    "    if not os.path.exists(data_file):\n",
    "        print('... downloading MNIST from the web')\n",
    "        try:\n",
    "            import urllib\n",
    "            urllib.urlretrieve('http://google.com')\n",
    "        except AttributeError:\n",
    "            import urllib.request as urllib\n",
    "        url = 'http://www.iro.umontreal.ca/~lisa/deep/data/mnist/mnist.pkl.gz'\n",
    "        urllib.urlretrieve(url, data_file)\n",
    "\n",
    "    print('... loading data')\n",
    "    # Load the dataset\n",
    "    f = gzip.open(data_file, 'rb')\n",
    "    try:\n",
    "        train_set, valid_set, test_set = pickle.load(f, encoding=\"latin1\")\n",
    "    except TypeError:\n",
    "        train_set, valid_set, test_set = pickle.load(f)\n",
    "    f.close()\n",
    "\n",
    "    test_x, test_y = test_set\n",
    "    test_x = test_x.astype('float32')\n",
    "    test_x = test_x.astype('float32').reshape(test_x.shape[0], 1, 28, 28)\n",
    "    test_y = test_y.astype('int32')\n",
    "    valid_x, valid_y = valid_set\n",
    "    valid_x = valid_x.astype('float32')\n",
    "    valid_x = valid_x.astype('float32').reshape(valid_x.shape[0], 1, 28, 28)\n",
    "    valid_y = valid_y.astype('int32')\n",
    "    train_x, train_y = train_set\n",
    "    train_x = train_x.astype('float32').reshape(train_x.shape[0], 1, 28, 28)\n",
    "    train_y = train_y.astype('int32')\n",
    "    rval = [(train_x, train_y), (valid_x, valid_y), (test_x, test_y)]\n",
    "    print('... done loading data')\n",
    "    return rval\n",
    "\n",
    "def one_hot(labels):\n",
    "    \"\"\"this creates a one hot encoding from a flat vector:\n",
    "    i.e. given y = [0,2,1]\n",
    "     it creates y_one_hot = [[1,0,0], [0,0,1], [0,1,0]]\n",
    "    \"\"\"\n",
    "    classes = np.unique(labels)\n",
    "    n_classes = classes.size\n",
    "    one_hot_labels = np.zeros(labels.shape + (n_classes,))\n",
    "    for c in classes:\n",
    "        one_hot_labels[labels == c, c] = 1\n",
    "    return one_hot_labels"
   ]
  },
  {
   "cell_type": "code",
   "execution_count": 5,
   "metadata": {},
   "outputs": [
    {
     "name": "stdout",
     "output_type": "stream",
     "text": [
      "... loading data\n",
      "... done loading data\n"
     ]
    }
   ],
   "source": [
    "\n",
    "# load\n",
    "Dtrain, Dval, Dtest = mnist()\n",
    "X_train, y_train = Dtrain\n",
    "X_valid, y_valid = Dval\n",
    "X_test, y_test = Dtest\n",
    "\n",
    "# Downsample training data to make it a bit faster for testing this code\n",
    "n_train_samples = 10000\n",
    "train_idxs = np.random.permutation(X_train.shape[0])[:n_train_samples]\n",
    "X_train_subset = X_train[train_idxs]\n",
    "y_train_subset = y_train[train_idxs]\n",
    "\n",
    "X_train = X_train.swapaxes(1,3)\n",
    "X_train_subset = X_train_subset.swapaxes(1,3)\n",
    "X_valid = X_valid.swapaxes(1,3)\n",
    "X_test = X_test.swapaxes(1,3)"
   ]
  },
  {
   "cell_type": "code",
   "execution_count": 74,
   "metadata": {},
   "outputs": [],
   "source": [
    "class LeNet():\n",
    "    def __init__(self, init_stddev=0.1, n_filter=16):\n",
    "        self.X_placeholder = tf.placeholder(tf.float32, (None, 28, 28, 1))\n",
    "        self.y_placeholder = tf.placeholder(tf.float32, (None, 10))\n",
    "        self.network_graph = self._network_graph(init_stddev,\n",
    "                                                 n_filter)\n",
    "        self.classification_error_graph = self._classification_error_graph()\n",
    "        self.loss_graph = self._loss_graph()\n",
    "\n",
    "        \n",
    "    def _run(self, graph, X, y):\n",
    "        data = {self.X_placeholder: X, \n",
    "                self.y_placeholder: y}\n",
    "        return self._session.run(graph, feed_dict=data)\n",
    "      \n",
    "    def _gd_step_graph(self, learning_rate):\n",
    "        gd = tf.train.GradientDescentOptimizer(learning_rate)\n",
    "        return gd.minimize(self._loss_graph())\n",
    "    \n",
    "    def _loss_graph(self):\n",
    "        negsum = -tf.reduce_sum(self.y_placeholder *\n",
    "                                    tf.log(self.network_graph), \n",
    "                                axis=[1])\n",
    "        cross_entropy = tf.reduce_mean(negsum)\n",
    "        return cross_entropy\n",
    "    \n",
    "    def _classification_error_graph(self):\n",
    "        wrong_pred = tf.not_equal(tf.argmax(self.y_placeholder, 1),\n",
    "                                  tf.argmax(self.network_graph, 1))\n",
    "        error_graph = tf.reduce_mean(tf.cast(wrong_pred, tf.float32))\n",
    "        return error_graph\n",
    "        \n",
    "    def loss(self, X, y):\n",
    "        return self._run(self.loss_graph, \n",
    "                         X, y)\n",
    "        \n",
    "    def classification_error(self, X, y, y_one_hot=True):\n",
    "        if y_one_hot:\n",
    "            y = one_hot(y)\n",
    "        return self._run(self.classification_error_graph, X, y)\n",
    "\n",
    "    def _network_graph(self, init_stddev, n_filter):\n",
    "        def conv(x):\n",
    "            filter_shape = [3, 3, x.shape[-1].value, n_filter]\n",
    "            W = tf.Variable(tf.random_normal(filter_shape, \n",
    "                                             stddev=init_stddev))\n",
    "            b = tf.Variable(tf.random_normal(filter_shape[-1:],\n",
    "                                             stddev=init_stddev))\n",
    "            return tf.nn.conv2d(x, W,             \n",
    "                                strides=[1, 1, 1, 1],\n",
    "                                padding='SAME') + b\n",
    "        def max_pool(x):\n",
    "            return tf.nn.max_pool(x, ksize=[1, 2, 2, 1],\n",
    "                                  strides=[1, 2, 2, 1],\n",
    "                                  padding='SAME')\n",
    "\n",
    "        def fully_connected(x, n_units):\n",
    "            x_flat = tf.reshape(x, [-1, np.prod(x.shape[1:])])\n",
    "            W = tf.Variable(tf.random_normal([x_flat.shape[1].value, n_units], \n",
    "                                             stddev=init_stddev))\n",
    "            b = tf.Variable(tf.random_normal([n_units], \n",
    "                                             stddev=init_stddev))\n",
    "            return tf.matmul(x_flat,W) + b\n",
    "    \n",
    "        x = self.X_placeholder\n",
    "        conv1 = conv(x)\n",
    "        act1 = tf.nn.relu(conv1)\n",
    "        pool1 = max_pool(act1)\n",
    "        conv2 = conv(pool1)\n",
    "        act2 = tf.nn.relu(conv2)\n",
    "        pool2 = max_pool(act2)\n",
    "        full1 = fully_connected(pool2, n_units=128)\n",
    "        full2 = fully_connected(full1, n_units=10)\n",
    "        y_pred = tf.nn.softmax(full2)\n",
    "        return y_pred\n",
    "    \n",
    "    def sdg_epoch(self, X, y, gd_step_graph, batch_size):\n",
    "        n_samples = X.shape[0]\n",
    "        n_batches = (n_samples // batch_size) + 1\n",
    "\n",
    "        for b in range(n_batches):\n",
    "            batch_start = b * batch_size\n",
    "            batch_end = batch_start + batch_size\n",
    "        \n",
    "            X_batch = X[batch_start:batch_end,]\n",
    "            y_batch = y[batch_start:batch_end,]\n",
    "            self._run(gd_step_graph, X, y)\n",
    "     \n",
    "    def train(self, X, y, X_valid, y_valid, learning_rate=0.1,\n",
    "              max_epochs=100, batch_size=64, y_one_hot=True):\n",
    "        print(\"... setup training\")\n",
    "        if y_one_hot:\n",
    "            y_1hot = one_hot(y)\n",
    "            y_valid_1hot = one_hot(y_valid)\n",
    "        else:\n",
    "            y_1hot = y\n",
    "            y_valid_1hot = y_valid\n",
    "        trace = dict(train_loss=[], train_error=[], valid_error=[])\n",
    "        step = self._gd_step_graph(learning_rate)\n",
    "       \n",
    "        print(\"... starting training\")\n",
    "        with tf.Session() as sess:\n",
    "            sess.run(tf.global_variables_initializer())\n",
    "            self._session = sess\n",
    "            for e in range(1, max_epochs+1):\n",
    "                self.sdg_epoch(X, y_1hot, step, batch_size)\n",
    "                \n",
    "                train_loss = self.loss(X, y_1hot)\n",
    "                train_error = self.classification_error(X, y_1hot,\n",
    "                                                        y_one_hot=False)\n",
    "                valid_error = self.classification_error(X_valid, y_valid_1hot,\n",
    "                                                        y_one_hot=False)\n",
    "                trace['train_loss'].append(train_loss)\n",
    "                trace['train_error'].append(train_error)\n",
    "                trace['valid_error'].append(valid_error) \n",
    "                print(('epoch {}: loss {:.4f}, ' +\n",
    "                        'train error {:.4f}, ' + \n",
    "                        'valid error {:.4f}' +\n",
    "                        '').format(e, train_loss, \n",
    "                                   train_error, valid_error))\n",
    "        return trace"
   ]
  },
  {
   "cell_type": "markdown",
   "metadata": {},
   "source": [
    "## Changing the Learning Rate\n",
    "\n",
    "Which conclusions could be drawn from this figure?\n",
    "\n",
    "Which value for the learning rate works best?"
   ]
  },
  {
   "cell_type": "code",
   "execution_count": 75,
   "metadata": {},
   "outputs": [
    {
     "name": "stdout",
     "output_type": "stream",
     "text": [
      "... setup training\n",
      "... starting training\n",
      "epoch 1: loss 1.9083, train error 0.4890, valid error 0.4781\n",
      "epoch 2: loss 1.1448, train error 0.2907, valid error 0.2740\n",
      "epoch 3: loss 0.7005, train error 0.2263, valid error 0.2174\n",
      "... setup training\n",
      "... starting training\n",
      "epoch 1: loss 2.2601, train error 0.8777, valid error 0.8877\n",
      "epoch 2: loss 2.2156, train error 0.8299, valid error 0.8411\n",
      "epoch 3: loss 2.1722, train error 0.7887, valid error 0.7978\n",
      "... setup training\n",
      "... starting training\n",
      "epoch 1: loss 2.3969, train error 0.8981, valid error 0.9005\n",
      "epoch 2: loss 2.3682, train error 0.8886, valid error 0.8918\n",
      "epoch 3: loss 2.3455, train error 0.8773, valid error 0.8841\n",
      "... setup training\n",
      "... starting training\n",
      "epoch 1: loss 2.4829, train error 0.8990, valid error 0.9004\n",
      "epoch 2: loss 2.4779, train error 0.8990, valid error 0.9004\n",
      "epoch 3: loss 2.4730, train error 0.8990, valid error 0.9003\n"
     ]
    }
   ],
   "source": [
    "learning_rates = [0.1, 0.01, 0.001, 0.0001]\n",
    "error_per_learning_rate = dict()\n",
    "\n",
    "train_config = dict(max_epochs=3, batch_size=1000,\n",
    "                    y_one_hot=True)\n",
    "\n",
    "lenet = LeNet(init_stddev=0.1, n_filter=16)\n",
    "for learning_rate in learning_rates:\n",
    "    print(\"USE LEARN RATE {:.f}\".format(learning_rate))\n",
    "    trace = lenet.train(X_train_subset, y_train_subset,\n",
    "                        X_valid, y_valid,\n",
    "                        learning_rate=learning_rate,\n",
    "                        **train_config)\n",
    "    error_per_learning_rate[str(learning_rate)] = trace['valid_error']\n",
    "    "
   ]
  },
  {
   "cell_type": "code",
   "execution_count": 76,
   "metadata": {},
   "outputs": [
    {
     "data": {
      "image/png": "[encoded data removed]",
      "text/plain": [
       "<matplotlib.figure.Figure at 0x7f30308a89b0>"
      ]
     },
     "metadata": {},
     "output_type": "display_data"
    }
   ],
   "source": [
    "for learning_rate, error in error_per_learning_rate.items():\n",
    "    plt.plot(error, label=learning_rate)\n",
    "plt.legend(title='learning rate', loc='best')\n",
    "plt.ylim((0, 1))\n",
    "plt.xlabel('epoch')\n",
    "plt.ylabel('error rate')\n",
    "\n",
    "plt.savefig('../report/assets/error.pdf')\n",
    "plt.show()"
   ]
  },
  {
   "cell_type": "markdown",
   "metadata": {},
   "source": [
    "## Runtime CPU vs GPU\n",
    "\n",
    "How does the number of parameters\n",
    "change if you increase the number of filters? \n",
    "\n",
    "How does the runtime change? \n",
    "\n",
    "At last, run the same experiments again on a CPU, How does the plot change?"
   ]
  },
  {
   "cell_type": "code",
   "execution_count": 82,
   "metadata": {
    "collapsed": true
   },
   "outputs": [],
   "source": [
    "gpu_filters = [8, 16, 32, 64, 128, 256]\n",
    "cpu_filters = [8, 16, 32, 64]\n",
    "\n",
    "devices = device_lib.list_local_devices()\n",
    "cpus = [d for d in devices if d.device_type == 'CPU']\n",
    "gpus = [d for d in devices if d.device_type == 'GPU']\n",
    "\n",
    "train_config = dict(max_epochs=3, batch_size=10000,\n",
    "                    learning_rate=0.1, y_one_hot=True)\n",
    "\n",
    "def check_time(filters, times):\n",
    "    for n_filter in filters:\n",
    "        print(\"USE #FILTER {}\".format(n_filter))\n",
    "        start = time.time()\n",
    "        lenet = LeNet(init_stddev=0.1, n_filter=16)\n",
    "        trace = lenet.train(X_train_subset, y_train_subset,\n",
    "                            X_valid, y_valid,\n",
    "                            **train_config)\n",
    "        end = time.time()\n",
    "        times.append(end - start)"
   ]
  },
  {
   "cell_type": "code",
   "execution_count": 80,
   "metadata": {},
   "outputs": [
    {
     "name": "stdout",
     "output_type": "stream",
     "text": [
      "USE CPU\n",
      "USE #FILTER 8\n",
      "... setup training\n",
      "... starting training\n",
      "epoch 1: loss 2.2315, train error 0.7855, valid error 0.7840\n",
      "epoch 2: loss 2.1676, train error 0.6978, valid error 0.6940\n",
      "epoch 3: loss 2.0811, train error 0.6213, valid error 0.6130\n",
      "USE #FILTER 16\n",
      "... setup training\n",
      "... starting training\n",
      "epoch 1: loss 2.2080, train error 0.7851, valid error 0.7743\n",
      "epoch 2: loss 2.1150, train error 0.6714, valid error 0.6639\n",
      "epoch 3: loss 1.9923, train error 0.5691, valid error 0.5622\n",
      "USE #FILTER 32\n",
      "... setup training\n",
      "... starting training\n",
      "epoch 1: loss 2.2634, train error 0.8344, valid error 0.8405\n",
      "epoch 2: loss 2.1966, train error 0.7577, valid error 0.7608\n",
      "epoch 3: loss 2.1103, train error 0.6672, valid error 0.6614\n",
      "USE #FILTER 64\n",
      "... setup training\n",
      "... starting training\n",
      "epoch 1: loss 2.2270, train error 0.8227, valid error 0.8132\n",
      "epoch 2: loss 2.1450, train error 0.6773, valid error 0.6613\n",
      "epoch 3: loss 2.0336, train error 0.5642, valid error 0.5491\n"
     ]
    },
    {
     "data": {
      "image/png": "[encoded data removed]",
      "text/plain": [
       "<matplotlib.figure.Figure at 0x7f3013445240>"
      ]
     },
     "metadata": {},
     "output_type": "display_data"
    }
   ],
   "source": [
    "gpu_time = []\n",
    "cpu_time = []\n",
    "\n",
    "if len(cpus) > 0:\n",
    "    print(\"USE CPU\")\n",
    "    with tf.device(cpus[0].name):\n",
    "        check_time(cpu_filters, cpu_time)\n",
    "\n",
    "if len(gpus) > 0:\n",
    "    print(\"USE GPU\")\n",
    "    with tf.device(gpus[0].name):\n",
    "        check_time(gpu_filters, gpu_time)"
   ]
  },
  {
   "cell_type": "code",
   "execution_count": 81,
   "metadata": {},
   "outputs": [
    {
     "data": {
      "image/png": "[encoded data removed]",
      "text/plain": [
       "<matplotlib.figure.Figure at 0x7f3013a4afd0>"
      ]
     },
     "metadata": {},
     "output_type": "display_data"
    }
   ],
   "source": [
    "if len(cpus) > 0:\n",
    "    plt.scatter(cpu_filters, cpu_time, label='CPU')\n",
    "\n",
    "if len(gpus) > 0:\n",
    "    plt.scatter(gpu_filters, gpu_time, label='GPU')\n",
    "    \n",
    "plt.legend(loc='best')\n",
    "plt.xlabel('filter [\\#]')\n",
    "plt.xscale('log', basex=2)\n",
    "plt.ylabel('runtime [s]')\n",
    "\n",
    "plt.savefig('../report/assets/runtime.pdf')\n",
    "plt.show()"
   ]
  }
 ],
 "metadata": {
  "kernelspec": {
   "display_name": "Python 3",
   "language": "python",
   "name": "python3"
  },
  "language_info": {
   "codemirror_mode": {
    "name": "ipython",
    "version": 3
   },
   "file_extension": ".py",
   "mimetype": "text/x-python",
   "name": "python",
   "nbconvert_exporter": "python",
   "pygments_lexer": "ipython3",
   "version": "3.6.3"
  }
 },
 "nbformat": 4,
 "nbformat_minor": 2
}
